{
 "cells": [
  {
   "cell_type": "code",
   "execution_count": 1,
   "metadata": {},
   "outputs": [],
   "source": [
    "import pandas as pd\n"
   ]
  },
  {
   "cell_type": "code",
   "execution_count": 25,
   "metadata": {},
   "outputs": [],
   "source": [
    "\n",
    "#purpose is to select the lower token hotpotQA sections that are more suitable for our training. \n",
    "test = pd.read_json(\"hotpot_train_v1.1.json\")\n",
    "import pandas as pd\n",
    "from transformers import AutoTokenizer\n",
    "tokenizer = AutoTokenizer.from_pretrained(\"NousResearch/Llama-2-7b-chat-hf\")\n",
    "def list_to_string(lst):\n",
    "    if isinstance(lst, list):\n",
    "        return ' '.join(list_to_string(item) for item in lst)\n",
    "    return str(lst)\n",
    "\n",
    "test['context_str'] = test['context'].apply(list_to_string)\n",
    "test['question_str'] = test['question'].apply(list_to_string)\n",
    "\n",
    "test['total_tokens'] = test.apply(lambda row: len(tokenizer.encode(row['context_str'] + \" \" + row['question_str'], add_special_tokens=True)), axis=1)\n",
    "\n",
    "token_length_distribution = test['total_tokens'].describe()\n",
    "filtered_data = test[test['total_tokens'] < 1130]\n",
    "len(filtered_data)\n",
    "filtered_data= filtered_data[['context_str','question_str','answer']]\n",
    "filtered_data.to_csv(\"hotpot_sub_1100.csv\")"
   ]
  },
  {
   "cell_type": "code",
   "execution_count": 3,
   "metadata": {},
   "outputs": [
    {
     "data": {
      "text/html": [
       "<div>\n",
       "<style scoped>\n",
       "    .dataframe tbody tr th:only-of-type {\n",
       "        vertical-align: middle;\n",
       "    }\n",
       "\n",
       "    .dataframe tbody tr th {\n",
       "        vertical-align: top;\n",
       "    }\n",
       "\n",
       "    .dataframe thead th {\n",
       "        text-align: right;\n",
       "    }\n",
       "</style>\n",
       "<table border=\"1\" class=\"dataframe\">\n",
       "  <thead>\n",
       "    <tr style=\"text-align: right;\">\n",
       "      <th></th>\n",
       "      <th>supporting_facts</th>\n",
       "      <th>level</th>\n",
       "      <th>question</th>\n",
       "      <th>context</th>\n",
       "      <th>answer</th>\n",
       "      <th>_id</th>\n",
       "      <th>type</th>\n",
       "    </tr>\n",
       "  </thead>\n",
       "  <tbody>\n",
       "    <tr>\n",
       "      <th>0</th>\n",
       "      <td>[[Arthur's Magazine, 0], [First for Women, 0]]</td>\n",
       "      <td>medium</td>\n",
       "      <td>Which magazine was started first Arthur's Maga...</td>\n",
       "      <td>[[Radio City (Indian radio station), [Radio Ci...</td>\n",
       "      <td>Arthur's Magazine</td>\n",
       "      <td>5a7a06935542990198eaf050</td>\n",
       "      <td>comparison</td>\n",
       "    </tr>\n",
       "    <tr>\n",
       "      <th>1</th>\n",
       "      <td>[[Oberoi family, 0], [The Oberoi Group, 0]]</td>\n",
       "      <td>medium</td>\n",
       "      <td>The Oberoi family is part of a hotel company t...</td>\n",
       "      <td>[[Ritz-Carlton Jakarta, [The Ritz-Carlton Jaka...</td>\n",
       "      <td>Delhi</td>\n",
       "      <td>5a879ab05542996e4f30887e</td>\n",
       "      <td>bridge</td>\n",
       "    </tr>\n",
       "    <tr>\n",
       "      <th>2</th>\n",
       "      <td>[[Allie Goertz, 0], [Allie Goertz, 1], [Allie ...</td>\n",
       "      <td>hard</td>\n",
       "      <td>Musician and satirist Allie Goertz wrote a son...</td>\n",
       "      <td>[[Lisa Simpson, [Lisa Marie Simpson is a ficti...</td>\n",
       "      <td>President Richard Nixon</td>\n",
       "      <td>5a8d7341554299441c6b9fe5</td>\n",
       "      <td>bridge</td>\n",
       "    </tr>\n",
       "    <tr>\n",
       "      <th>3</th>\n",
       "      <td>[[Peggy Seeger, 0], [Peggy Seeger, 1], [Ewan M...</td>\n",
       "      <td>medium</td>\n",
       "      <td>What nationality was James Henry Miller's wife?</td>\n",
       "      <td>[[Moloch: or, This Gentile World, [Moloch: or,...</td>\n",
       "      <td>American</td>\n",
       "      <td>5a82171f5542990a1d231f4a</td>\n",
       "      <td>bridge</td>\n",
       "    </tr>\n",
       "    <tr>\n",
       "      <th>4</th>\n",
       "      <td>[[Cadmium chloride, 1], [Ethanol, 0]]</td>\n",
       "      <td>medium</td>\n",
       "      <td>Cadmium Chloride is slightly soluble in this c...</td>\n",
       "      <td>[[Cadmium chloride, [Cadmium chloride is a whi...</td>\n",
       "      <td>alcohol</td>\n",
       "      <td>5a84dd955542997b5ce3ff79</td>\n",
       "      <td>bridge</td>\n",
       "    </tr>\n",
       "  </tbody>\n",
       "</table>\n",
       "</div>"
      ],
      "text/plain": [
       "                                    supporting_facts   level  \\\n",
       "0     [[Arthur's Magazine, 0], [First for Women, 0]]  medium   \n",
       "1        [[Oberoi family, 0], [The Oberoi Group, 0]]  medium   \n",
       "2  [[Allie Goertz, 0], [Allie Goertz, 1], [Allie ...    hard   \n",
       "3  [[Peggy Seeger, 0], [Peggy Seeger, 1], [Ewan M...  medium   \n",
       "4              [[Cadmium chloride, 1], [Ethanol, 0]]  medium   \n",
       "\n",
       "                                            question  \\\n",
       "0  Which magazine was started first Arthur's Maga...   \n",
       "1  The Oberoi family is part of a hotel company t...   \n",
       "2  Musician and satirist Allie Goertz wrote a son...   \n",
       "3    What nationality was James Henry Miller's wife?   \n",
       "4  Cadmium Chloride is slightly soluble in this c...   \n",
       "\n",
       "                                             context                   answer  \\\n",
       "0  [[Radio City (Indian radio station), [Radio Ci...        Arthur's Magazine   \n",
       "1  [[Ritz-Carlton Jakarta, [The Ritz-Carlton Jaka...                    Delhi   \n",
       "2  [[Lisa Simpson, [Lisa Marie Simpson is a ficti...  President Richard Nixon   \n",
       "3  [[Moloch: or, This Gentile World, [Moloch: or,...                 American   \n",
       "4  [[Cadmium chloride, [Cadmium chloride is a whi...                  alcohol   \n",
       "\n",
       "                        _id        type  \n",
       "0  5a7a06935542990198eaf050  comparison  \n",
       "1  5a879ab05542996e4f30887e      bridge  \n",
       "2  5a8d7341554299441c6b9fe5      bridge  \n",
       "3  5a82171f5542990a1d231f4a      bridge  \n",
       "4  5a84dd955542997b5ce3ff79      bridge  "
      ]
     },
     "execution_count": 3,
     "metadata": {},
     "output_type": "execute_result"
    }
   ],
   "source": [
    "test = pd.read_json(\"qlora-main/data/\")"
   ]
  },
  {
   "cell_type": "code",
   "execution_count": 4,
   "metadata": {},
   "outputs": [],
   "source": []
  },
  {
   "cell_type": "code",
   "execution_count": 6,
   "metadata": {},
   "outputs": [
    {
     "data": {
      "text/plain": [
       "[\"Arthur's Magazine\", 0]"
      ]
     },
     "execution_count": 6,
     "metadata": {},
     "output_type": "execute_result"
    }
   ],
   "source": []
  },
  {
   "cell_type": "code",
   "execution_count": 7,
   "metadata": {},
   "outputs": [
    {
     "data": {
      "text/plain": [
       "90447"
      ]
     },
     "execution_count": 7,
     "metadata": {},
     "output_type": "execute_result"
    }
   ],
   "source": []
  },
  {
   "cell_type": "code",
   "execution_count": 12,
   "metadata": {},
   "outputs": [],
   "source": []
  },
  {
   "cell_type": "code",
   "execution_count": 22,
   "metadata": {},
   "outputs": [
    {
     "data": {
      "text/plain": [
       "10236"
      ]
     },
     "execution_count": 22,
     "metadata": {},
     "output_type": "execute_result"
    }
   ],
   "source": []
  },
  {
   "cell_type": "code",
   "execution_count": 24,
   "metadata": {},
   "outputs": [],
   "source": []
  },
  {
   "cell_type": "code",
   "execution_count": null,
   "metadata": {},
   "outputs": [],
   "source": []
  }
 ],
 "metadata": {
  "kernelspec": {
   "display_name": "Python 3",
   "language": "python",
   "name": "python3"
  },
  "language_info": {
   "codemirror_mode": {
    "name": "ipython",
    "version": 3
   },
   "file_extension": ".py",
   "mimetype": "text/x-python",
   "name": "python",
   "nbconvert_exporter": "python",
   "pygments_lexer": "ipython3",
   "version": "3.11.0"
  }
 },
 "nbformat": 4,
 "nbformat_minor": 2
}
